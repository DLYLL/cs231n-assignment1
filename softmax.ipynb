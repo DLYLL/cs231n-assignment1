{
 "cells": [
  {
   "cell_type": "markdown",
   "metadata": {},
   "source": [
    "# Softmax exercise\n",
    "\n",
    "*Complete and hand in this completed worksheet (including its outputs and any supporting code outside of the worksheet) with your assignment submission. For more details see the [assignments page](http://vision.stanford.edu/teaching/cs231n/assignments.html) on the course website.*\n",
    "\n",
    "This exercise is analogous to the SVM exercise. You will:\n",
    "\n",
    "- implement a fully-vectorized **loss function** for the Softmax classifier\n",
    "- implement the fully-vectorized expression for its **analytic gradient**\n",
    "- **check your implementation** with numerical gradient\n",
    "- use a validation set to **tune the learning rate and regularization** strength\n",
    "- **optimize** the loss function with **SGD**\n",
    "- **visualize** the final learned weights\n"
   ]
  },
  {
   "cell_type": "code",
   "execution_count": 1,
   "metadata": {
    "collapsed": false
   },
   "outputs": [
    {
     "name": "stderr",
     "output_type": "stream",
     "text": [
      "/Users/aroetter/anaconda/lib/python2.7/site-packages/matplotlib/font_manager.py:273: UserWarning: Matplotlib is building the font cache using fc-list. This may take a moment.\n",
      "  warnings.warn('Matplotlib is building the font cache using fc-list. This may take a moment.')\n"
     ]
    }
   ],
   "source": [
    "import random\n",
    "import numpy as np\n",
    "from cs231n.data_utils import load_CIFAR10\n",
    "import matplotlib.pyplot as plt\n",
    "%matplotlib inline\n",
    "plt.rcParams['figure.figsize'] = (10.0, 8.0) # set default size of plots\n",
    "plt.rcParams['image.interpolation'] = 'nearest'\n",
    "plt.rcParams['image.cmap'] = 'gray'\n",
    "\n",
    "# for auto-reloading extenrnal modules\n",
    "# see http://stackoverflow.com/questions/1907993/autoreload-of-modules-in-ipython\n",
    "%load_ext autoreload\n",
    "%autoreload 2"
   ]
  },
  {
   "cell_type": "code",
   "execution_count": 2,
   "metadata": {
    "collapsed": false
   },
   "outputs": [
    {
     "name": "stdout",
     "output_type": "stream",
     "text": [
      "Train data shape:  (49000, 3073)\n",
      "Train labels shape:  (49000,)\n",
      "Validation data shape:  (1000, 3073)\n",
      "Validation labels shape:  (1000,)\n",
      "Test data shape:  (1000, 3073)\n",
      "Test labels shape:  (1000,)\n",
      "dev data shape:  (500, 3073)\n",
      "dev labels shape:  (500,)\n"
     ]
    }
   ],
   "source": [
    "def get_CIFAR10_data(num_training=49000, num_validation=1000, num_test=1000, num_dev=500):\n",
    "  \"\"\"\n",
    "  Load the CIFAR-10 dataset from disk and perform preprocessing to prepare\n",
    "  it for the linear classifier. These are the same steps as we used for the\n",
    "  SVM, but condensed to a single function.  \n",
    "  \"\"\"\n",
    "  # Load the raw CIFAR-10 data\n",
    "  cifar10_dir = 'cs231n/datasets/cifar-10-batches-py'\n",
    "  X_train, y_train, X_test, y_test = load_CIFAR10(cifar10_dir)\n",
    "  \n",
    "  # subsample the data\n",
    "  mask = range(num_training, num_training + num_validation)\n",
    "  X_val = X_train[mask]\n",
    "  y_val = y_train[mask]\n",
    "  mask = range(num_training)\n",
    "  X_train = X_train[mask]\n",
    "  y_train = y_train[mask]\n",
    "  mask = range(num_test)\n",
    "  X_test = X_test[mask]\n",
    "  y_test = y_test[mask]\n",
    "  mask = np.random.choice(num_training, num_dev, replace=False)\n",
    "  X_dev = X_train[mask]\n",
    "  y_dev = y_train[mask]\n",
    "  \n",
    "  # Preprocessing: reshape the image data into rows\n",
    "  X_train = np.reshape(X_train, (X_train.shape[0], -1))\n",
    "  X_val = np.reshape(X_val, (X_val.shape[0], -1))\n",
    "  X_test = np.reshape(X_test, (X_test.shape[0], -1))\n",
    "  X_dev = np.reshape(X_dev, (X_dev.shape[0], -1))\n",
    "  \n",
    "  # Normalize the data: subtract the mean image\n",
    "  mean_image = np.mean(X_train, axis = 0)\n",
    "  X_train -= mean_image\n",
    "  X_val -= mean_image\n",
    "  X_test -= mean_image\n",
    "  X_dev -= mean_image\n",
    "  \n",
    "  # add bias dimension and transform into columns\n",
    "  X_train = np.hstack([X_train, np.ones((X_train.shape[0], 1))])\n",
    "  X_val = np.hstack([X_val, np.ones((X_val.shape[0], 1))])\n",
    "  X_test = np.hstack([X_test, np.ones((X_test.shape[0], 1))])\n",
    "  X_dev = np.hstack([X_dev, np.ones((X_dev.shape[0], 1))])\n",
    "  \n",
    "  return X_train, y_train, X_val, y_val, X_test, y_test, X_dev, y_dev\n",
    "\n",
    "\n",
    "# Invoke the above function to get our data.\n",
    "X_train, y_train, X_val, y_val, X_test, y_test, X_dev, y_dev = get_CIFAR10_data()\n",
    "print 'Train data shape: ', X_train.shape\n",
    "print 'Train labels shape: ', y_train.shape\n",
    "print 'Validation data shape: ', X_val.shape\n",
    "print 'Validation labels shape: ', y_val.shape\n",
    "print 'Test data shape: ', X_test.shape\n",
    "print 'Test labels shape: ', y_test.shape\n",
    "print 'dev data shape: ', X_dev.shape\n",
    "print 'dev labels shape: ', y_dev.shape"
   ]
  },
  {
   "cell_type": "markdown",
   "metadata": {},
   "source": [
    "## Softmax Classifier\n",
    "\n",
    "Your code for this section will all be written inside **cs231n/classifiers/softmax.py**. \n"
   ]
  },
  {
   "cell_type": "code",
   "execution_count": 3,
   "metadata": {
    "collapsed": false
   },
   "outputs": [
    {
     "name": "stdout",
     "output_type": "stream",
     "text": [
      "loss: 2.371157\n",
      "sanity check: 2.302585\n"
     ]
    }
   ],
   "source": [
    "# First implement the naive softmax loss function with nested loops.\n",
    "# Open the file cs231n/classifiers/softmax.py and implement the\n",
    "# softmax_loss_naive function.\n",
    "\n",
    "from cs231n.classifiers.softmax import softmax_loss_naive\n",
    "import time\n",
    "\n",
    "# Generate a random softmax weight matrix and use it to compute the loss.\n",
    "W = np.random.randn(3073, 10) * 0.0001\n",
    "loss, grad = softmax_loss_naive(W, X_dev, y_dev, 0.0)\n",
    "\n",
    "# As a rough sanity check, our loss should be something close to -log(0.1).\n",
    "print 'loss: %f' % loss\n",
    "print 'sanity check: %f' % (-np.log(0.1))"
   ]
  },
  {
   "cell_type": "markdown",
   "metadata": {},
   "source": [
    "## Inline Question 1:\n",
    "Why do we expect our loss to be close to -log(0.1)? Explain briefly.**\n",
    "\n",
    "**Your answer:** We initialized the W's to all be near zero, so, the scores for each data pt x_i * W are all going to be near zero. so e^score = 10. so, the loss function becomes -log (e^correct_class_score / sum (over all scores)). the sum is 10, b/c there are 10 classes, and each gets e^0 = 1., so, -log(1/10).\n"
   ]
  },
  {
   "cell_type": "code",
   "execution_count": 5,
   "metadata": {
    "collapsed": false
   },
   "outputs": [
    {
     "name": "stdout",
     "output_type": "stream",
     "text": [
      "numerical: 0.017132 analytic: 0.017131, relative error: 7.077528e-06\n",
      "numerical: -1.545980 analytic: -1.545980, relative error: 1.082096e-08\n",
      "numerical: 3.071283 analytic: 3.071283, relative error: 1.754991e-08\n",
      "numerical: -1.269855 analytic: -1.269855, relative error: 9.317930e-10\n",
      "numerical: -6.513661 analytic: -6.513661, relative error: 4.478708e-09\n",
      "numerical: -1.202143 analytic: -1.202143, relative error: 1.100281e-08\n",
      "numerical: 1.725406 analytic: 1.725406, relative error: 6.703151e-08\n",
      "numerical: -4.346855 analytic: -4.346855, relative error: 6.770317e-10\n",
      "numerical: 2.279595 analytic: 2.279595, relative error: 2.154138e-08\n",
      "numerical: -2.321063 analytic: -2.321063, relative error: 2.539755e-08\n",
      "numerical: 0.146077 analytic: 0.146077, relative error: 2.955782e-07\n",
      "numerical: 1.257202 analytic: 1.257201, relative error: 6.667828e-08\n",
      "numerical: 1.322787 analytic: 1.322787, relative error: 2.303670e-08\n",
      "numerical: -0.145178 analytic: -0.145178, relative error: 6.498686e-08\n",
      "numerical: -1.487785 analytic: -1.487785, relative error: 7.311770e-09\n",
      "numerical: 1.782965 analytic: 1.782965, relative error: 1.319149e-08\n",
      "numerical: -3.161561 analytic: -3.161561, relative error: 1.152541e-08\n",
      "numerical: 1.299128 analytic: 1.299128, relative error: 5.800878e-08\n",
      "numerical: -1.880963 analytic: -1.880963, relative error: 1.694229e-08\n",
      "numerical: 0.519026 analytic: 0.519026, relative error: 1.455855e-07\n"
     ]
    }
   ],
   "source": [
    "# Complete the implementation of softmax_loss_naive and implement a (naive)\n",
    "# version of the gradient that uses nested loops.\n",
    "loss, grad = softmax_loss_naive(W, X_dev, y_dev, 0.0)\n",
    "\n",
    "# As we did for the SVM, use numeric gradient checking as a debugging tool.\n",
    "# The numeric gradient should be close to the analytic gradient.\n",
    "from cs231n.gradient_check import grad_check_sparse\n",
    "f = lambda w: softmax_loss_naive(w, X_dev, y_dev, 0.0)[0]\n",
    "grad_numerical = grad_check_sparse(f, W, grad, 10)\n",
    "\n",
    "# similar to SVM case, do another gradient check with regularization\n",
    "loss, grad = softmax_loss_naive(W, X_dev, y_dev, 1e2)\n",
    "f = lambda w: softmax_loss_naive(w, X_dev, y_dev, 1e2)[0]\n",
    "grad_numerical = grad_check_sparse(f, W, grad, 10)"
   ]
  },
  {
   "cell_type": "code",
   "execution_count": 6,
   "metadata": {
    "collapsed": false
   },
   "outputs": [
    {
     "name": "stdout",
     "output_type": "stream",
     "text": [
      "naive loss: 2.371157e+00 computed in 0.120956s\n",
      "vectorized loss: 2.371157e+00 computed in 0.025561s\n",
      "Loss difference: 0.000000\n",
      "Gradient difference: 0.000000\n"
     ]
    }
   ],
   "source": [
    "# Now that we have a naive implementation of the softmax loss function and its gradient,\n",
    "# implement a vectorized version in softmax_loss_vectorized.\n",
    "# The two versions should compute the same results, but the vectorized version should be\n",
    "# much faster.\n",
    "tic = time.time()\n",
    "loss_naive, grad_naive = softmax_loss_naive(W, X_dev, y_dev, 0.00001)\n",
    "toc = time.time()\n",
    "print 'naive loss: %e computed in %fs' % (loss_naive, toc - tic)\n",
    "\n",
    "from cs231n.classifiers.softmax import softmax_loss_vectorized\n",
    "tic = time.time()\n",
    "loss_vectorized, grad_vectorized = softmax_loss_vectorized(W, X_dev, y_dev, 0.00001)\n",
    "toc = time.time()\n",
    "print 'vectorized loss: %e computed in %fs' % (loss_vectorized, toc - tic)\n",
    "\n",
    "# As we did for the SVM, we use the Frobenius norm to compare the two versions\n",
    "# of the gradient.\n",
    "grad_difference = np.linalg.norm(grad_naive - grad_vectorized, ord='fro')\n",
    "print 'Loss difference: %f' % np.abs(loss_naive - loss_vectorized)\n",
    "print 'Gradient difference: %f' % grad_difference"
   ]
  },
  {
   "cell_type": "code",
   "execution_count": 8,
   "metadata": {
    "collapsed": false
   },
   "outputs": [
    {
     "name": "stdout",
     "output_type": "stream",
     "text": [
      "With lr=0.000000100, reg=50000.000000, got a train accuracy of 0.336102 and val accuracy of 0.344000.\n",
      "Saving a new winner!\n"
     ]
    },
    {
     "name": "stderr",
     "output_type": "stream",
     "text": [
      "cs231n/classifiers/softmax.py:87: RuntimeWarning: divide by zero encountered in log\n",
      "  loss = -1 * np.log(numers / denoms).sum()\n",
      "cs231n/classifiers/softmax.py:87: RuntimeWarning: invalid value encountered in divide\n",
      "  loss = -1 * np.log(numers / denoms).sum()\n",
      "cs231n/classifiers/softmax.py:98: RuntimeWarning: divide by zero encountered in divide\n",
      "  dW_term2 = (X.T / denoms).dot(expscores)\n",
      "cs231n/classifiers/softmax.py:98: RuntimeWarning: overflow encountered in divide\n",
      "  dW_term2 = (X.T / denoms).dot(expscores)\n"
     ]
    },
    {
     "name": "stdout",
     "output_type": "stream",
     "text": [
      "With lr=0.000000100, reg=25037500.000000, got a train accuracy of 0.100265 and val accuracy of 0.087000.\n",
      "With lr=0.000000100, reg=50025000.000000, got a train accuracy of 0.100265 and val accuracy of 0.087000.\n",
      "With lr=0.000000100, reg=75012500.000000, got a train accuracy of 0.100265 and val accuracy of 0.087000.\n",
      "With lr=0.000000100, reg=100000000.000000, got a train accuracy of 0.100265 and val accuracy of 0.087000.\n",
      "With lr=0.000000200, reg=50000.000000, got a train accuracy of 0.327531 and val accuracy of 0.344000.\n",
      "With lr=0.000000200, reg=25037500.000000, got a train accuracy of 0.100265 and val accuracy of 0.087000.\n",
      "With lr=0.000000200, reg=50025000.000000, got a train accuracy of 0.100265 and val accuracy of 0.087000.\n",
      "With lr=0.000000200, reg=75012500.000000, got a train accuracy of 0.100265 and val accuracy of 0.087000.\n",
      "With lr=0.000000200, reg=100000000.000000, got a train accuracy of 0.100265 and val accuracy of 0.087000.\n",
      "With lr=0.000000300, reg=50000.000000, got a train accuracy of 0.328857 and val accuracy of 0.336000.\n",
      "With lr=0.000000300, reg=25037500.000000, got a train accuracy of 0.100265 and val accuracy of 0.087000.\n",
      "With lr=0.000000300, reg=50025000.000000, got a train accuracy of 0.100265 and val accuracy of 0.087000.\n",
      "With lr=0.000000300, reg=75012500.000000, got a train accuracy of 0.100265 and val accuracy of 0.087000.\n",
      "With lr=0.000000300, reg=100000000.000000, got a train accuracy of 0.100265 and val accuracy of 0.087000.\n",
      "With lr=0.000000400, reg=50000.000000, got a train accuracy of 0.327694 and val accuracy of 0.344000.\n",
      "With lr=0.000000400, reg=25037500.000000, got a train accuracy of 0.100265 and val accuracy of 0.087000.\n",
      "With lr=0.000000400, reg=50025000.000000, got a train accuracy of 0.100265 and val accuracy of 0.087000.\n",
      "With lr=0.000000400, reg=75012500.000000, got a train accuracy of 0.100265 and val accuracy of 0.087000.\n",
      "With lr=0.000000400, reg=100000000.000000, got a train accuracy of 0.100265 and val accuracy of 0.087000.\n",
      "With lr=0.000000500, reg=50000.000000, got a train accuracy of 0.324367 and val accuracy of 0.342000.\n",
      "With lr=0.000000500, reg=25037500.000000, got a train accuracy of 0.100265 and val accuracy of 0.087000.\n",
      "With lr=0.000000500, reg=50025000.000000, got a train accuracy of 0.100265 and val accuracy of 0.087000.\n",
      "With lr=0.000000500, reg=75012500.000000, got a train accuracy of 0.100265 and val accuracy of 0.087000.\n",
      "With lr=0.000000500, reg=100000000.000000, got a train accuracy of 0.100265 and val accuracy of 0.087000.\n",
      "lr 1.000000e-07 reg 5.000000e+04 train accuracy: 0.336102 val accuracy: 0.344000\n",
      "lr 1.000000e-07 reg 2.503750e+07 train accuracy: 0.100265 val accuracy: 0.087000\n",
      "lr 1.000000e-07 reg 5.002500e+07 train accuracy: 0.100265 val accuracy: 0.087000\n",
      "lr 1.000000e-07 reg 7.501250e+07 train accuracy: 0.100265 val accuracy: 0.087000\n",
      "lr 1.000000e-07 reg 1.000000e+08 train accuracy: 0.100265 val accuracy: 0.087000\n",
      "lr 2.000000e-07 reg 5.000000e+04 train accuracy: 0.327531 val accuracy: 0.344000\n",
      "lr 2.000000e-07 reg 2.503750e+07 train accuracy: 0.100265 val accuracy: 0.087000\n",
      "lr 2.000000e-07 reg 5.002500e+07 train accuracy: 0.100265 val accuracy: 0.087000\n",
      "lr 2.000000e-07 reg 7.501250e+07 train accuracy: 0.100265 val accuracy: 0.087000\n",
      "lr 2.000000e-07 reg 1.000000e+08 train accuracy: 0.100265 val accuracy: 0.087000\n",
      "lr 3.000000e-07 reg 5.000000e+04 train accuracy: 0.328857 val accuracy: 0.336000\n",
      "lr 3.000000e-07 reg 2.503750e+07 train accuracy: 0.100265 val accuracy: 0.087000\n",
      "lr 3.000000e-07 reg 5.002500e+07 train accuracy: 0.100265 val accuracy: 0.087000\n",
      "lr 3.000000e-07 reg 7.501250e+07 train accuracy: 0.100265 val accuracy: 0.087000\n",
      "lr 3.000000e-07 reg 1.000000e+08 train accuracy: 0.100265 val accuracy: 0.087000\n",
      "lr 4.000000e-07 reg 5.000000e+04 train accuracy: 0.327694 val accuracy: 0.344000\n",
      "lr 4.000000e-07 reg 2.503750e+07 train accuracy: 0.100265 val accuracy: 0.087000\n",
      "lr 4.000000e-07 reg 5.002500e+07 train accuracy: 0.100265 val accuracy: 0.087000\n",
      "lr 4.000000e-07 reg 7.501250e+07 train accuracy: 0.100265 val accuracy: 0.087000\n",
      "lr 4.000000e-07 reg 1.000000e+08 train accuracy: 0.100265 val accuracy: 0.087000\n",
      "lr 5.000000e-07 reg 5.000000e+04 train accuracy: 0.324367 val accuracy: 0.342000\n",
      "lr 5.000000e-07 reg 2.503750e+07 train accuracy: 0.100265 val accuracy: 0.087000\n",
      "lr 5.000000e-07 reg 5.002500e+07 train accuracy: 0.100265 val accuracy: 0.087000\n",
      "lr 5.000000e-07 reg 7.501250e+07 train accuracy: 0.100265 val accuracy: 0.087000\n",
      "lr 5.000000e-07 reg 1.000000e+08 train accuracy: 0.100265 val accuracy: 0.087000\n",
      "best validation accuracy achieved during cross-validation: 0.344000\n"
     ]
    }
   ],
   "source": [
    "# Use the validation set to tune hyperparameters (regularization strength and\n",
    "# learning rate). You should experiment with different ranges for the learning\n",
    "# rates and regularization strengths; if you are careful you should be able to\n",
    "# get a classification accuracy of over 0.35 on the validation set.\n",
    "from cs231n.classifiers import Softmax\n",
    "results = {}\n",
    "best_val = -1\n",
    "best_softmax = None\n",
    "learning_rates = [1e-7, 5e-7]\n",
    "regularization_strengths = [5e4, 1e8]\n",
    "\n",
    "################################################################################\n",
    "# TODO:                                                                        #\n",
    "# Use the validation set to set the learning rate and regularization strength. #\n",
    "# This should be identical to the validation that you did for the SVM; save    #\n",
    "# the best trained softmax classifer in best_softmax.                          #\n",
    "################################################################################\n",
    "\n",
    "for lr in np.linspace(learning_rates[0], learning_rates[1], num=5):\n",
    "    for reg in np.linspace(regularization_strengths[0], regularization_strengths[1], num=5):\n",
    "        softmax = Softmax()\n",
    "        loss_hist = softmax.train(X_train, y_train, learning_rate=lr, reg=reg,\n",
    "                      num_iters=2500, verbose=False)\n",
    "        y_train_pred = softmax.predict(X_train)\n",
    "        y_val_pred = softmax.predict(X_val)\n",
    "        training_accuracy = np.mean(y_train == y_train_pred)\n",
    "        val_accuracy = np.mean(y_val == y_val_pred)\n",
    "        results[(lr, reg)] = (training_accuracy, val_accuracy)\n",
    "        print \"With lr=%0.9f, reg=%f, got a train accuracy of %f and val accuracy of %f.\" % (\n",
    "        lr, reg, training_accuracy, val_accuracy)\n",
    "        if val_accuracy > best_val:\n",
    "            print \"Saving a new winner!\"\n",
    "            best_val = val_accuracy\n",
    "            best_softmax = softmax\n",
    "################################################################################\n",
    "#                              END OF YOUR CODE                                #\n",
    "################################################################################\n",
    "    \n",
    "################################################################################\n",
    "#                              END OF YOUR CODE                                #\n",
    "################################################################################\n",
    "    \n",
    "# Print out results.\n",
    "for lr, reg in sorted(results):\n",
    "    train_accuracy, val_accuracy = results[(lr, reg)]\n",
    "    print 'lr %e reg %e train accuracy: %f val accuracy: %f' % (\n",
    "                lr, reg, train_accuracy, val_accuracy)\n",
    "    \n",
    "print 'best validation accuracy achieved during cross-validation: %f' % best_val"
   ]
  },
  {
   "cell_type": "code",
   "execution_count": 9,
   "metadata": {
    "collapsed": false
   },
   "outputs": [
    {
     "name": "stdout",
     "output_type": "stream",
     "text": [
      "softmax on raw pixels final test set accuracy: 0.343000\n"
     ]
    }
   ],
   "source": [
    "# evaluate on test set\n",
    "# Evaluate the best softmax on test set\n",
    "y_test_pred = best_softmax.predict(X_test)\n",
    "test_accuracy = np.mean(y_test == y_test_pred)\n",
    "print 'softmax on raw pixels final test set accuracy: %f' % (test_accuracy, )"
   ]
  },
  {
   "cell_type": "code",
   "execution_count": 10,
   "metadata": {
    "collapsed": false
   },
   "outputs": [
    {
     "data": {
      "image/png": "[encoded data removed]",
      "text/plain": [
       "<matplotlib.figure.Figure at 0x118c03f90>"
      ]
     },
     "metadata": {},
     "output_type": "display_data"
    }
   ],
   "source": [
    "# Visualize the learned weights for each class\n",
    "w = best_softmax.W[:-1,:] # strip out the bias\n",
    "w = w.reshape(32, 32, 3, 10)\n",
    "\n",
    "w_min, w_max = np.min(w), np.max(w)\n",
    "\n",
    "classes = ['plane', 'car', 'bird', 'cat', 'deer', 'dog', 'frog', 'horse', 'ship', 'truck']\n",
    "for i in xrange(10):\n",
    "  plt.subplot(2, 5, i + 1)\n",
    "  \n",
    "  # Rescale the weights to be between 0 and 255\n",
    "  wimg = 255.0 * (w[:, :, :, i].squeeze() - w_min) / (w_max - w_min)\n",
    "  plt.imshow(wimg.astype('uint8'))\n",
    "  plt.axis('off')\n",
    "  plt.title(classes[i])"
   ]
  },
  {
   "cell_type": "code",
   "execution_count": null,
   "metadata": {
    "collapsed": true
   },
   "outputs": [],
   "source": []
  }
 ],
 "metadata": {
  "kernelspec": {
   "display_name": "Python 2",
   "language": "python",
   "name": "python2"
  },
  "language_info": {
   "codemirror_mode": {
    "name": "ipython",
    "version": 2
   },
   "file_extension": ".py",
   "mimetype": "text/x-python",
   "name": "python",
   "nbconvert_exporter": "python",
   "pygments_lexer": "ipython2",
   "version": "2.7.11"
  }
 },
 "nbformat": 4,
 "nbformat_minor": 0
}
